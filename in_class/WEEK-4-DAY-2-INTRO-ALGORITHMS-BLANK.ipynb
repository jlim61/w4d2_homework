{
 "cells": [
  {
   "cell_type": "markdown",
   "metadata": {},
   "source": [
    "# Algorithms, Binary Search & Linked Lists"
   ]
  },
  {
   "cell_type": "markdown",
   "metadata": {},
   "source": [
    "## Tasks Today:\n",
    " \n",
    "1) <b>In-Place Algorithms</b> <br>\n",
    " &nbsp;&nbsp;&nbsp;&nbsp; a) Syntax <br>\n",
    " &nbsp;&nbsp;&nbsp;&nbsp; a) Out of Place Algorithm <br>\n",
    " &nbsp;&nbsp;&nbsp;&nbsp; b) In-Class Exercise #1 <br>\n",
    "2) <b>Two Pointers</b> <br>\n",
    "3) <b>Linked Lists</b> <br>\n",
    "4) <b>Merge Sort</b> <br>\n",
    " &nbsp;&nbsp;&nbsp;&nbsp; a) Video on Algorithms <br>\n",
    " &nbsp;&nbsp;&nbsp;&nbsp; b) How it Works <br>\n",
    "5) <b>Exercises</b> <br>\n",
    " &nbsp;&nbsp;&nbsp;&nbsp; a) Exercise #1 - Reverse a List in Place Using an In-Place Algorithm <br>\n",
    " &nbsp;&nbsp;&nbsp;&nbsp; b) Exercise #2 - Find Distinct Words <br>\n",
    " &nbsp;&nbsp;&nbsp;&nbsp; c) Exercise #3 - Write a program to implement a Linear Search Algorithm. <br>"
   ]
  },
  {
   "cell_type": "markdown",
   "metadata": {},
   "source": [
    "## In-Place Algorithms"
   ]
  },
  {
   "cell_type": "markdown",
   "metadata": {},
   "source": [
    "#### Syntax"
   ]
  },
  {
   "cell_type": "code",
   "execution_count": 11,
   "metadata": {},
   "outputs": [
    {
     "name": "stdout",
     "output_type": "stream",
     "text": [
      "[5, 3, 1, 8] before\n",
      "[1, 3, 5, 8] after\n",
      "sorted_og_list = None\n",
      "[1, 3, 5, 8] before\n",
      "[8, 3, 5, 1] after\n",
      "[8, 3, 5, 1] before\n",
      "[1, 3, 5, 8] after\n",
      "sorted_og_list = [1, 3, 5, 8]\n"
     ]
    }
   ],
   "source": [
    "og_list = [5,3,1,8]\n",
    "print(f'{og_list} before')\n",
    "sorted_og_list = og_list.sort()\n",
    "print(f'{og_list} after\\n{sorted_og_list = }')\n",
    "# .sort is an inplace algorithm that doesn't have a return value. that's why we get None\n",
    "# in place MUTATES the ORIGINAL object\n",
    "\n",
    "\n",
    "\n",
    "\n",
    "def inplace_swap(alist):\n",
    "#     element at first position, element at last position -> saying we are going to assign new values to these elements\n",
    "#     assigning the new values. it goes in order though so we are swapping the values of the first and last elements\n",
    "    alist[0], alist[-1] = alist[-1], alist[0]\n",
    "    return alist\n",
    "    \n",
    "print(f'{og_list} before')\n",
    "inplace_swap(og_list)\n",
    "print(f'{og_list} after')\n",
    "\n",
    "print(f'{og_list} before')\n",
    "sorted_og_list = inplace_swap(og_list)\n",
    "print(f'{og_list} after\\n{sorted_og_list = }')"
   ]
  },
  {
   "cell_type": "markdown",
   "metadata": {},
   "source": [
    "#### Out of Place Algorithm"
   ]
  },
  {
   "cell_type": "code",
   "execution_count": 26,
   "metadata": {},
   "outputs": [
    {
     "name": "stdout",
     "output_type": "stream",
     "text": [
      "[8, 30, 1, 0, 5] before\n",
      "[8, 30, 1, 0, 5] after\n",
      "[0, 1, 5, 8, 30]\n",
      "matrix_string = 'matrix' before\n",
      "matrix_string = 'matrix' after\n",
      "gnirts_xirtam\n",
      "[8, 30, 1, 0, 5] before\n",
      "[8, 30, 1, 0, 5] after\n",
      "[5, 30, 1, 0, 8]\n"
     ]
    }
   ],
   "source": [
    "# out of place, going to need a return value because you are not changing original input\n",
    "# Note how the new_list AFTER is the same because we did not change original object.\n",
    "# we stored a new variable with that value and that shows the sorted list\n",
    "new_list = [8,30,1,0,5]\n",
    "print(f'{new_list} before')\n",
    "sorted_new_list = sorted(new_list)\n",
    "print(f'{new_list} after\\n{sorted_new_list}')\n",
    "\n",
    "matrix_string = 'matrix'\n",
    "\n",
    "def reverse_string(astring):\n",
    "    return astring[::-1]\n",
    "\n",
    "print(f'{matrix_string = } before')\n",
    "maxtrix_reversed = reverse_string(matrix_string)\n",
    "print(f'{matrix_string = } after')\n",
    "print(matrix_reversed)\n",
    "\n",
    "\n",
    "def outplace_swap(alist):\n",
    "    alist_copy = alist[::]\n",
    "    alist_copy[0], alist_copy[-1] = alist_copy[-1], alist_copy[0]\n",
    "    return alist_copy\n",
    "\n",
    "print(f'{new_list} before')\n",
    "swapped_new_list = outplace_swap(new_list)\n",
    "print(f'{new_list} after\\n{swapped_new_list}')"
   ]
  },
  {
   "cell_type": "markdown",
   "metadata": {},
   "source": [
    "#### In-Class Exercise #1 <br>\n",
    "<p>Write a function that takes in four arguments (list, index1, index2, index3), and swaps those three positions in the list passed in.</p>"
   ]
  },
  {
   "cell_type": "code",
   "execution_count": 32,
   "metadata": {},
   "outputs": [
    {
     "name": "stdout",
     "output_type": "stream",
     "text": [
      "[10, 4, 3, 8, 4, 2, 6] before\n",
      "[8, 3, 4, 10, 4, 2, 6] after\n"
     ]
    }
   ],
   "source": [
    "l_1 = [10, 4, 3, 8, 4, 2, 6]\n",
    "\n",
    "def inplace_swap_pos(alist, index1, index2, index3, index4):\n",
    "    alist[index1], alist[index4] = alist[index4], alist[index1]\n",
    "    alist[index2], alist[index3] = alist[index3], alist[index2]\n",
    "\n",
    "print(f'{l_1} before')\n",
    "inplace_swap_pos(l_1,0,1,2,3)\n",
    "print(f'{l_1} after')"
   ]
  },
  {
   "cell_type": "code",
   "execution_count": 31,
   "metadata": {},
   "outputs": [
    {
     "name": "stdout",
     "output_type": "stream",
     "text": [
      "[10, 4, 3, 8, 4, 2, 6] before\n",
      "[10, 4, 3, 8, 4, 2, 6] after\n",
      "swapped_indexes = [8, 3, 4, 10, 4, 2, 6]\n"
     ]
    }
   ],
   "source": [
    "l_1 = [10, 4, 3, 8, 4, 2, 6]\n",
    "\n",
    "def outplace_swap_pos(alist, index1, index2, index3, index4):\n",
    "    alist_copy = alist[::1]\n",
    "    alist_copy[index1], alist_copy[index4] = alist_copy[index4], alist_copy[index1]\n",
    "    alist_copy[index2], alist_copy[index3] = alist_copy[index3], alist_copy[index2]\n",
    "    return alist_copy\n",
    "\n",
    "print(f'{l_1} before')\n",
    "swapped_indexes = outplace_swap_pos(l_1,0,1,2,3)\n",
    "print(f'{l_1} after\\n{swapped_indexes = }')"
   ]
  },
  {
   "cell_type": "markdown",
   "metadata": {},
   "source": [
    "## Two Pointers"
   ]
  },
  {
   "cell_type": "markdown",
   "metadata": {},
   "source": [
    "#### Syntax"
   ]
  },
  {
   "cell_type": "code",
   "execution_count": 36,
   "metadata": {},
   "outputs": [
    {
     "name": "stdout",
     "output_type": "stream",
     "text": [
      "left_point = 0 = R right_point = 6 = r\n",
      "left_point = 1 = a right_point = 5 = a\n",
      "left_point = 2 = c right_point = 4 = c\n"
     ]
    },
    {
     "data": {
      "text/plain": [
       "True"
      ]
     },
     "execution_count": 36,
     "metadata": {},
     "output_type": "execute_result"
    }
   ],
   "source": [
    "def check_palindrome(astring):\n",
    "    left_point, right_point = 0, len(astring) - 1\n",
    "    while left_point < right_point:\n",
    "        print(f'{left_point = } = {astring[left_point]} {right_point = } = {astring[right_point]}')\n",
    "        if astring[left_point].lower() != astring[right_point].lower():\n",
    "            return False\n",
    "        else:\n",
    "            left_point += 1\n",
    "            right_point -= 1\n",
    "    return True\n",
    "\n",
    "check_palindrome('Racecar')"
   ]
  },
  {
   "cell_type": "code",
   "execution_count": 38,
   "metadata": {},
   "outputs": [
    {
     "data": {
      "text/plain": [
       "[5, 4, 3, 2, 1]"
      ]
     },
     "execution_count": 38,
     "metadata": {},
     "output_type": "execute_result"
    }
   ],
   "source": [
    "num_list = [1,2,3,4,5]\n",
    "\n",
    "def find_reverse_list(alist):\n",
    "    left_point, right_point = 0, len(alist) - 1\n",
    "    while left_point < right_point:\n",
    "        alist[left_point], alist[right_point] = alist[right_point], alist[left_point]\n",
    "        left_point += 1\n",
    "        right_point -= 1\n",
    "    return alist\n",
    "\n",
    "find_reverse_list(num_list)"
   ]
  },
  {
   "cell_type": "markdown",
   "metadata": {},
   "source": [
    "# Class Exercise"
   ]
  },
  {
   "cell_type": "code",
   "execution_count": 62,
   "metadata": {},
   "outputs": [
    {
     "name": "stdout",
     "output_type": "stream",
     "text": [
      "left_point = 0 = l right_point = 3 = a\n",
      "left_point = 1 = y right_point = 3 = a\n"
     ]
    },
    {
     "data": {
      "text/plain": [
       "['l', 'a', 'l', 'y']"
      ]
     },
     "execution_count": 62,
     "metadata": {},
     "output_type": "execute_result"
    }
   ],
   "source": [
    "# reverse all vowels in a string (y is considered vowel in this case)\n",
    "# reverse_vowels('sean') => 'saen'\n",
    "# reverse_vowels('lyla') => 'laly'\n",
    "\n",
    "def reverse_vowels(astring):\n",
    "    vowel_list = 'aeiouy'\n",
    "    astring = list(astring)\n",
    "    left_point, right_point = 0, len(astring) - 1\n",
    "    while left_point < right_point:\n",
    "#         print(f'{left_point = } = {astring[left_point]} {right_point = } = {astring[right_point]}')\n",
    "        if astring[left_point].lower() in vowel_list and astring[right_point].lower() in vowel_list:\n",
    "            astring[left_point], astring[right_point] = astring[right_point].lower(), astring[left_point].lower()\n",
    "            left_point += 1\n",
    "            right_point -= 1\n",
    "        elif astring[left_point].lower() not in vowel_list and astring[right_point].lower() in vowel_list:\n",
    "            left_point += 1\n",
    "        elif astring[left_point].lower() in vowel_list and astring[right_point].lower() not in vowel_list:\n",
    "            right_point -= 1\n",
    "        elif astring[left_point].lower() not in vowel_list and astring[right_point].lower() not in vowel_list:\n",
    "            left_point += 1\n",
    "            right_point -= 1\n",
    "    return astring\n",
    "            \n",
    "reverse_vowels('lyla')"
   ]
  },
  {
   "cell_type": "code",
   "execution_count": 88,
   "metadata": {},
   "outputs": [
    {
     "data": {
      "text/plain": [
       "['l', 'a', 'l', 'y']"
      ]
     },
     "execution_count": 88,
     "metadata": {},
     "output_type": "execute_result"
    }
   ],
   "source": [
    "# not so many .lower()'s\n",
    "def reverse_vowels(astring):\n",
    "    vowel_list = 'aeiouy'\n",
    "    astring = list(astring.lower())\n",
    "    left_point, right_point = 0, len(astring) - 1\n",
    "    while left_point < right_point:\n",
    "#         print(f'{left_point = } = {astring[left_point]} {right_point = } = {astring[right_point]}')\n",
    "        if astring[left_point] in vowel_list and astring[right_point] in vowel_list:\n",
    "            astring[left_point], astring[right_point] = astring[right_point], astring[left_point]\n",
    "            left_point += 1\n",
    "            right_point -= 1\n",
    "        elif astring[left_point] not in vowel_list and astring[right_point] in vowel_list:\n",
    "            left_point += 1\n",
    "        elif astring[left_point] in vowel_list and astring[right_point] not in vowel_list:\n",
    "            right_point -= 1\n",
    "        elif astring[left_point] not in vowel_list and astring[right_point] not in vowel_list:\n",
    "            left_point += 1\n",
    "            right_point -= 1\n",
    "    return astring\n",
    "            \n",
    "reverse_vowels('lYla')"
   ]
  },
  {
   "cell_type": "code",
   "execution_count": 86,
   "metadata": {},
   "outputs": [
    {
     "name": "stdout",
     "output_type": "stream",
     "text": [
      "Holle! This not a cemplox string sympli for tisteng.\n"
     ]
    }
   ],
   "source": [
    "# for entire strings\n",
    "def reverse_vowels_in_string(astring):\n",
    "    vowel_list = 'aeiouy'\n",
    "    words = astring.split()  # Split the s tring into words\n",
    "\n",
    "    # Function to reverse vowels in a word\n",
    "    def reverse_vowels_in_word(word):\n",
    "        word = list(word)\n",
    "        left_point, right_point = 0, len(word) - 1\n",
    "        while left_point < right_point:\n",
    "            if word[left_point] in vowel_list and word[right_point] in vowel_list:\n",
    "                word[left_point], word[right_point] = word[right_point], word[left_point]\n",
    "                left_point += 1\n",
    "                right_point -= 1\n",
    "            elif word[left_point] not in vowel_list:\n",
    "                left_point += 1\n",
    "            elif word[right_point] not in vowel_list:\n",
    "                right_point -= 1\n",
    "        return ''.join(word)\n",
    "\n",
    "    result_words = [reverse_vowels_in_word(word) for word in words]\n",
    "    result_string = ' '.join(result_words)\n",
    "    \n",
    "    return result_string\n",
    "\n",
    "test_string = 'Hello! This not a complex string simply for testing.'\n",
    "result = reverse_vowels_in_string(test_string)\n",
    "print(result)"
   ]
  },
  {
   "cell_type": "code",
   "execution_count": 91,
   "metadata": {},
   "outputs": [
    {
     "data": {
      "text/plain": [
       "'saEn'"
      ]
     },
     "execution_count": 91,
     "metadata": {},
     "output_type": "execute_result"
    }
   ],
   "source": [
    "# dylan live version w/ set\n",
    "# keeps casing as well\n",
    "\n",
    "def reverse_vowels(astring):\n",
    "    characters = list(astring)\n",
    "    left_point, right_point = 0, len(characters) - 1\n",
    "    vowel_set = {'a','e','i','o','u','y'}\n",
    "    while left_point < right_point:\n",
    "        if characters[left_point].lower() in vowel_set and characters[right_point].lower() in vowel_set:\n",
    "            characters[left_point], characters[right_point] = characters[right_point],characters[left_point]\n",
    "            left_point += 1\n",
    "            right_point -= 1\n",
    "        elif characters[left_point].lower() not in vowel_set:\n",
    "            left_point += 1\n",
    "        elif characters[right_point].lower() not in vowel_set:\n",
    "            right_point -= 1\n",
    "            \n",
    "    return ''.join(characters)\n",
    "\n",
    "reverse_vowels('sEan')"
   ]
  },
  {
   "cell_type": "markdown",
   "metadata": {},
   "source": [
    "#### Video of Algorithms <br>\n",
    "<p>Watch the video about algorithms.</p>\n",
    "\n",
    "https://www.youtube.com/watch?v=Q9HjeFD62Uk\n",
    "\n",
    "https://www.youtube.com/watch?v=kPRA0W1kECg\n",
    "\n",
    "https://www.youtube.com/watch?v=ZZuD6iUe3Pc"
   ]
  },
  {
   "cell_type": "markdown",
   "metadata": {},
   "source": [
    "# Sorting Algorithms"
   ]
  },
  {
   "cell_type": "markdown",
   "metadata": {},
   "source": [
    "#### Bubble Sort\n",
    "\n",
    "Worst Case: O(n^2) Time - O(1) Space"
   ]
  },
  {
   "cell_type": "code",
   "execution_count": null,
   "metadata": {},
   "outputs": [],
   "source": []
  },
  {
   "cell_type": "markdown",
   "metadata": {},
   "source": [
    "##### Insertion Sort\n",
    "\n",
    "Worst Case: O(n^2) time - O(1)space"
   ]
  },
  {
   "cell_type": "code",
   "execution_count": null,
   "metadata": {},
   "outputs": [],
   "source": []
  },
  {
   "cell_type": "markdown",
   "metadata": {},
   "source": [
    "## Merge Sort"
   ]
  },
  {
   "cell_type": "markdown",
   "metadata": {},
   "source": [
    "#### How it Works"
   ]
  },
  {
   "cell_type": "code",
   "execution_count": null,
   "metadata": {},
   "outputs": [],
   "source": []
  },
  {
   "cell_type": "markdown",
   "metadata": {},
   "source": [
    "# Binary Search\n",
    "\n",
    "The Binary Search algorithm works by finding the number in the middle of a given array and comparing it to the target. Given that the array is sorted\n",
    "\n",
    "* The worst case run time for this algorithm is `O(log(n))`"
   ]
  },
  {
   "cell_type": "code",
   "execution_count": null,
   "metadata": {},
   "outputs": [],
   "source": []
  },
  {
   "cell_type": "markdown",
   "metadata": {},
   "source": [
    "# Exercises"
   ]
  },
  {
   "cell_type": "markdown",
   "metadata": {},
   "source": [
    "### Exercise #1 <br>\n",
    "<p>Reverse the list below in-place using an in-place algorithm.<br>For extra credit: Reverse the strings at the same time.</p>"
   ]
  },
  {
   "cell_type": "code",
   "execution_count": 99,
   "metadata": {},
   "outputs": [
    {
     "name": "stdout",
     "output_type": "stream",
     "text": [
      "['.', 'sentence', 'a', 'is', 'this']\n"
     ]
    }
   ],
   "source": [
    "words = ['this' , 'is', 'a', 'sentence', '.']\n",
    "\n",
    "def reverse_list(alist):\n",
    "    for element in alist:\n",
    "        left_point, right_point = 0, len(alist)-1\n",
    "        while left_point < right_point:\n",
    "            alist[left_point], alist[right_point] = alist[right_point], alist[left_point]\n",
    "            left_point += 1\n",
    "            right_point -= 1\n",
    "\n",
    "\n",
    "reverse_list(words)\n",
    "print(words)"
   ]
  },
  {
   "cell_type": "code",
   "execution_count": 177,
   "metadata": {},
   "outputs": [
    {
     "name": "stdout",
     "output_type": "stream",
     "text": [
      "Original string reversed: ['.', 'sentence', 'a', 'is', 'this']\n",
      "Reversed string with reversed words: ['.', 'ecnetnes', 'a', 'si', 'siht']\n",
      "Reversed string with reversed words string format: . ecnetnes a si siht\n"
     ]
    }
   ],
   "source": [
    "words = ['this' , 'is', 'a', 'sentence', '.']\n",
    "\n",
    "def reverse_list(alist):\n",
    "    left_point, right_point = 0, len(alist)-1\n",
    "    while left_point < right_point:\n",
    "        alist[left_point], alist[right_point] = alist[right_point], alist[left_point]\n",
    "        left_point += 1\n",
    "        right_point -= 1\n",
    "    print(f'Original string reversed: {alist}')\n",
    "\n",
    "    for i in range(len(alist)):\n",
    "        word = list(alist[i])\n",
    "        left_point, right_point = 0, len(word)-1\n",
    "        while left_point < right_point:\n",
    "            word[left_point], word[right_point] = word[right_point], word[left_point]\n",
    "            left_point += 1\n",
    "            right_point -= 1\n",
    "        alist[i] = ''.join(word)\n",
    "    print(f'Reversed string with reversed words: {alist}')\n",
    "        \n",
    "    reversed_alist = ' '.join(alist)\n",
    "    print(f'Reversed string with reversed words string format: {reversed_alist}')\n",
    "    \n",
    "        \n",
    "\n",
    "\n",
    "reverse_list(words)"
   ]
  },
  {
   "cell_type": "markdown",
   "metadata": {},
   "source": [
    "### Exercise #2 <br>\n",
    "<p>Create a function that counts how many distinct words are in the string below, then outputs a dictionary with the words as the key and the value as the amount of times that word appears in the string.<br>Should output:<br>{'a': 5,<br>\n",
    " 'abstract': 1,<br>\n",
    " 'an': 3,<br>\n",
    " 'array': 2, ... etc...</p>"
   ]
  },
  {
   "cell_type": "code",
   "execution_count": 178,
   "metadata": {},
   "outputs": [
    {
     "data": {
      "text/plain": [
       "{'a': 5,\n",
       " 'abstract': 1,\n",
       " 'an': 3,\n",
       " 'array': 2,\n",
       " 'associative': 1,\n",
       " 'be': 1,\n",
       " 'buckets': 1,\n",
       " 'can': 2,\n",
       " 'compute': 1,\n",
       " 'computing': 1,\n",
       " 'data': 2,\n",
       " 'desired': 1,\n",
       " 'found': 1,\n",
       " 'from': 1,\n",
       " 'function': 1,\n",
       " 'hash': 4,\n",
       " 'implements': 1,\n",
       " 'in': 1,\n",
       " 'index': 1,\n",
       " 'into': 1,\n",
       " 'is': 1,\n",
       " 'keys': 1,\n",
       " 'map': 2,\n",
       " 'of': 1,\n",
       " 'or': 1,\n",
       " 'slots': 1,\n",
       " 'structure': 2,\n",
       " 'table': 2,\n",
       " 'that': 1,\n",
       " 'the': 1,\n",
       " 'to': 2,\n",
       " 'type': 1,\n",
       " 'uses': 1,\n",
       " 'value': 1,\n",
       " 'values.': 1,\n",
       " 'which': 2}"
      ]
     },
     "execution_count": 178,
     "metadata": {},
     "output_type": "execute_result"
    }
   ],
   "source": [
    "a_text = 'In computing, a hash table hash map is a data structure which implements an associative array abstract data type, a structure that can map keys to values. A hash table uses a hash function to compute an index into an array of buckets or slots from which the desired value can be found'\n",
    "\n",
    "def distinct_words(astring):\n",
    "    replaced_commas = astring.replace(',',' ')\n",
    "    split_string = replaced_commas.lower().split()\n",
    "    sorted_split = sorted(split_string)\n",
    "    output = {}\n",
    "    for word in sorted_split:\n",
    "        if word in output:\n",
    "            output[word] += 1\n",
    "        else:\n",
    "            output[word] = 1\n",
    "    return output\n",
    "\n",
    "distinct_words(a_text)\n",
    "\n",
    "# test_text = 'In in in should have three.'\n",
    "\n",
    "# distinct_words(test_text)"
   ]
  },
  {
   "cell_type": "markdown",
   "metadata": {},
   "source": [
    "## Exercise #3\n",
    "\n",
    "Write a program to implement a Linear Search Algorithm. Also in a comment, write the Time Complexity of the following algorithm.\n",
    "\n",
    "#### Hint: Linear Searching will require searching a list for a given number. "
   ]
  },
  {
   "cell_type": "code",
   "execution_count": 112,
   "metadata": {},
   "outputs": [
    {
     "name": "stdout",
     "output_type": "stream",
     "text": [
      "Number 1 has been found, but it is not the target\n",
      "Number 2 has been found, but it is not the target\n",
      "Number 3 has been found, but it is not the target\n",
      "Number 4 has been found, but it is not the target\n",
      "Number 5 has been found, but it is not the target\n",
      "Number 6 has been found, but it is not the target\n",
      "Number 7 has been found, but it is not the target\n"
     ]
    },
    {
     "data": {
      "text/plain": [
       "'The target number of 8 has been found'"
      ]
     },
     "execution_count": 112,
     "metadata": {},
     "output_type": "execute_result"
    }
   ],
   "source": [
    "num_list = [1,2,3,4,5,6,7,8,9,10]\n",
    "\n",
    "def find_num(alist, target):\n",
    "    for num in alist:\n",
    "        if num == target:\n",
    "            return f'The target number of {target} has been found'\n",
    "        else:\n",
    "            print(f'Number {num} has been found, but the target is {target}')\n",
    "        \n",
    "find_num(num_list, 8)"
   ]
  },
  {
   "cell_type": "code",
   "execution_count": null,
   "metadata": {},
   "outputs": [],
   "source": [
    "'''\n",
    "Time Complexity\n",
    "\n",
    "O(n) + O(1+1+1) -> O(n) + O(1)\n",
    "\n",
    "Final -> O(n)\n",
    "\n",
    "def find_num(alist, target):\n",
    "    for num in alist: -> O(n) ; it iterates through the list which can be of varying size\n",
    "        if num == target: -> O(1) membership check but it's checking one value to one value\n",
    "            return f'The target number of {target} has been found' -> O(1)\n",
    "        else:\n",
    "            print(f'Number {num} has been found, but the target is {target}') -> O(1)\n",
    "\n",
    "'''"
   ]
  }
 ],
 "metadata": {
  "kernelspec": {
   "display_name": "Python 3 (ipykernel)",
   "language": "python",
   "name": "python3"
  },
  "language_info": {
   "codemirror_mode": {
    "name": "ipython",
    "version": 3
   },
   "file_extension": ".py",
   "mimetype": "text/x-python",
   "name": "python",
   "nbconvert_exporter": "python",
   "pygments_lexer": "ipython3",
   "version": "3.11.3"
  }
 },
 "nbformat": 4,
 "nbformat_minor": 2
}
